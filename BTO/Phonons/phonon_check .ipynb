{
 "cells": [
  {
   "cell_type": "code",
   "execution_count": 1,
   "id": "5b2e9576",
   "metadata": {},
   "outputs": [],
   "source": [
    "import numpy as np"
   ]
  },
  {
   "cell_type": "code",
   "execution_count": 2,
   "id": "8523a7c4",
   "metadata": {},
   "outputs": [
    {
     "name": "stdout",
     "output_type": "stream",
     "text": [
      "1.0000000000000007\n"
     ]
    }
   ],
   "source": [
    "eigenVectors = [[0.00000000000000, 0.00000000000000,  0.63952231209928],\n",
    "                [0.00000000000000, 0.00000000000000, -0.49172286442931],\n",
    "                [0.00000000000000, 0.00000000000000, -0.33608292654470],\n",
    "                [0.00000000000000, 0.00000000000000, -0.34370634516239],\n",
    "                [0.00000000000000, 0.00000000000000, -0.34370634516239]]\n",
    "eigenVectors = np.asarray(eigenVectors)\n",
    "print(np.sum(eigenVectors[:, 2]**2))"
   ]
  },
  {
   "cell_type": "code",
   "execution_count": null,
   "id": "3d537b5e",
   "metadata": {},
   "outputs": [],
   "source": []
  }
 ],
 "metadata": {
  "kernelspec": {
   "display_name": "Python 3 (ipykernel)",
   "language": "python",
   "name": "python3"
  },
  "language_info": {
   "codemirror_mode": {
    "name": "ipython",
    "version": 3
   },
   "file_extension": ".py",
   "mimetype": "text/x-python",
   "name": "python",
   "nbconvert_exporter": "python",
   "pygments_lexer": "ipython3",
   "version": "3.9.13"
  }
 },
 "nbformat": 4,
 "nbformat_minor": 5
}

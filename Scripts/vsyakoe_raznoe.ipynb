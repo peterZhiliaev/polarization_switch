{
 "cells": [
  {
   "cell_type": "code",
   "execution_count": 3,
   "id": "ec5af704",
   "metadata": {},
   "outputs": [],
   "source": [
    "import numpy as np"
   ]
  },
  {
   "cell_type": "code",
   "execution_count": 17,
   "id": "d0400eb7",
   "metadata": {},
   "outputs": [
    {
     "name": "stdout",
     "output_type": "stream",
     "text": [
      "[0.         0.48487222 0.02401516 0.51474426 0.51474426]\n",
      "[ 0.         -0.06096262  0.09677741  0.05941706  0.05941706]\n"
     ]
    }
   ],
   "source": [
    "z_down = [-0.0096751813941247, \n",
    "           0.4751970394474812, \n",
    "           0.0143399835559606,\n",
    "           0.5050690791953424,\n",
    "           0.5050690791953424]\n",
    "\n",
    "z_up = [ 0.0096751721480457,\n",
    "         0.5248029530407297,\n",
    "        -0.0143399874138379,\n",
    "         0.4949309311125303,\n",
    "         0.4949309311125303]\n",
    "\n",
    "z_down = np.asarray(z_down)\n",
    "z_up = np.asarray(z_up)\n",
    "z_down -= z_down[0]\n",
    "print(z_down)\n",
    "z_up -= z_up[0]\n",
    "\n",
    "# print(z_up)\n",
    "# print(z_down)\n",
    "one_qp = ((z_down[1:] - z_up[1:]) / 2)\n",
    "one_qp = np.asarray([0.0] + list(one_qp))\n",
    "one_qp_absolute = one_qp * 4.0298460000000000\n",
    "print(one_qp_absolute)\n",
    "# print(one_qp)\n",
    "# print(z_down - one_qp)\n",
    "# print(z_up + one_qp)"
   ]
  },
  {
   "cell_type": "code",
   "execution_count": null,
   "id": "7f2bd508",
   "metadata": {},
   "outputs": [],
   "source": []
  }
 ],
 "metadata": {
  "kernelspec": {
   "display_name": "Python 3 (ipykernel)",
   "language": "python",
   "name": "python3"
  },
  "language_info": {
   "codemirror_mode": {
    "name": "ipython",
    "version": 3
   },
   "file_extension": ".py",
   "mimetype": "text/x-python",
   "name": "python",
   "nbconvert_exporter": "python",
   "pygments_lexer": "ipython3",
   "version": "3.9.13"
  }
 },
 "nbformat": 4,
 "nbformat_minor": 5
}
